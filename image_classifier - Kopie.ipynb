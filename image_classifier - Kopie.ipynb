{
 "cells": [
  {
   "cell_type": "code",
   "execution_count": 1,
   "metadata": {},
   "outputs": [],
   "source": [
    "%config IPCompleter.greedy=True"
   ]
  },
  {
   "cell_type": "code",
   "execution_count": 5,
   "metadata": {},
   "outputs": [],
   "source": [
    "from PIL import Image\n",
    "import numpy as np\n",
    "import io\n",
    "import os\n",
    "import torch\n",
    "import pickle"
   ]
  },
  {
   "cell_type": "code",
   "execution_count": 62,
   "metadata": {},
   "outputs": [
    {
     "ename": "OSError",
     "evalue": "cannot identify image file 'F:\\\\image_classifier\\\\images_with_pen\\\\resized\\\\BulkResizePhotos.html'",
     "output_type": "error",
     "traceback": [
      "\u001b[1;31m---------------------------------------------------------------------------\u001b[0m",
      "\u001b[1;31mOSError\u001b[0m                                   Traceback (most recent call last)",
      "\u001b[1;32m<ipython-input-62-b7d0551edb84>\u001b[0m in \u001b[0;36m<module>\u001b[1;34m\u001b[0m\n\u001b[0;32m      3\u001b[0m \u001b[1;33m\u001b[0m\u001b[0m\n\u001b[0;32m      4\u001b[0m \u001b[1;32mfor\u001b[0m \u001b[0mfilename\u001b[0m \u001b[1;32min\u001b[0m \u001b[0mos\u001b[0m\u001b[1;33m.\u001b[0m\u001b[0mlistdir\u001b[0m\u001b[1;33m(\u001b[0m\u001b[0mdirectory\u001b[0m\u001b[1;33m)\u001b[0m\u001b[1;33m:\u001b[0m\u001b[1;33m\u001b[0m\u001b[1;33m\u001b[0m\u001b[0m\n\u001b[1;32m----> 5\u001b[1;33m     \u001b[0mimg\u001b[0m \u001b[1;33m=\u001b[0m \u001b[0mImage\u001b[0m\u001b[1;33m.\u001b[0m\u001b[0mopen\u001b[0m\u001b[1;33m(\u001b[0m\u001b[0mdirectory\u001b[0m\u001b[1;33m+\u001b[0m\u001b[1;34m\"\\\\\"\u001b[0m\u001b[1;33m+\u001b[0m\u001b[0mfilename\u001b[0m\u001b[1;33m)\u001b[0m\u001b[1;33m\u001b[0m\u001b[1;33m\u001b[0m\u001b[0m\n\u001b[0m\u001b[0;32m      6\u001b[0m     \u001b[0mnew_img\u001b[0m \u001b[1;33m=\u001b[0m\u001b[0mimg\u001b[0m\u001b[1;33m.\u001b[0m\u001b[0mconvert\u001b[0m\u001b[1;33m(\u001b[0m\u001b[1;34m\"L\"\u001b[0m\u001b[1;33m)\u001b[0m\u001b[1;33m\u001b[0m\u001b[1;33m\u001b[0m\u001b[0m\n\u001b[0;32m      7\u001b[0m     \u001b[0mnew_img\u001b[0m\u001b[1;33m.\u001b[0m\u001b[0msave\u001b[0m\u001b[1;33m(\u001b[0m\u001b[0mdirectory\u001b[0m\u001b[1;33m+\u001b[0m\u001b[1;34m\"\\\\\"\u001b[0m\u001b[1;33m+\u001b[0m\u001b[0mfilename\u001b[0m\u001b[1;33m)\u001b[0m\u001b[1;33m\u001b[0m\u001b[1;33m\u001b[0m\u001b[0m\n",
      "\u001b[1;32m~\\Anaconda3\\lib\\site-packages\\PIL\\Image.py\u001b[0m in \u001b[0;36mopen\u001b[1;34m(fp, mode)\u001b[0m\n\u001b[0;32m   2655\u001b[0m         \u001b[0mwarnings\u001b[0m\u001b[1;33m.\u001b[0m\u001b[0mwarn\u001b[0m\u001b[1;33m(\u001b[0m\u001b[0mmessage\u001b[0m\u001b[1;33m)\u001b[0m\u001b[1;33m\u001b[0m\u001b[1;33m\u001b[0m\u001b[0m\n\u001b[0;32m   2656\u001b[0m     raise IOError(\"cannot identify image file %r\"\n\u001b[1;32m-> 2657\u001b[1;33m                   % (filename if filename else fp))\n\u001b[0m\u001b[0;32m   2658\u001b[0m \u001b[1;33m\u001b[0m\u001b[0m\n\u001b[0;32m   2659\u001b[0m \u001b[1;31m#\u001b[0m\u001b[1;33m\u001b[0m\u001b[1;33m\u001b[0m\u001b[1;33m\u001b[0m\u001b[0m\n",
      "\u001b[1;31mOSError\u001b[0m: cannot identify image file 'F:\\\\image_classifier\\\\images_with_pen\\\\resized\\\\BulkResizePhotos.html'"
     ]
    }
   ],
   "source": [
    "#Bilder schwarz weiß machen optional\n",
    "directory = 'F:\\\\image_classifier\\\\images_with_pen\\\\resized'\n",
    "\n",
    "for filename in os.listdir(directory):\n",
    "    img = Image.open(directory+\"\\\\\"+filename)\n",
    "    new_img =img.convert(\"L\")\n",
    "    new_img.save(directory+\"\\\\\"+filename)"
   ]
  },
  {
   "cell_type": "code",
   "execution_count": 63,
   "metadata": {},
   "outputs": [],
   "source": [
    "\n",
    "directory = 'F:\\\\image_classifier\\\\images_without_pen\\\\resized'\n",
    "\n",
    "for filename in os.listdir(directory):\n",
    "    img = Image.open(directory+\"\\\\\"+filename)\n",
    "    new_img =img.convert(\"L\")\n",
    "    new_img.save(directory+\"\\\\\"+filename)"
   ]
  },
  {
   "cell_type": "code",
   "execution_count": 39,
   "metadata": {},
   "outputs": [
    {
     "name": "stdout",
     "output_type": "stream",
     "text": [
      "4171\n",
      "5502\n"
     ]
    }
   ],
   "source": [
    "#Anzahl der Bilder\n",
    "directory = 'F:\\\\image_classifier\\\\images_without_pen\\\\resized'\n",
    "print(len(os.listdir(directory)))\n",
    "directory = 'F:\\\\image_classifier\\\\images_with_pen\\\\resized'\n",
    "print(len(os.listdir(directory)))"
   ]
  },
  {
   "cell_type": "code",
   "execution_count": 40,
   "metadata": {},
   "outputs": [
    {
     "data": {
      "text/plain": [
       "9671"
      ]
     },
     "execution_count": 40,
     "metadata": {},
     "output_type": "execute_result"
    }
   ],
   "source": [
    "4170+5501"
   ]
  },
  {
   "cell_type": "code",
   "execution_count": 41,
   "metadata": {},
   "outputs": [],
   "source": [
    "imageListWithout =[torch.zeros(1)]*4170"
   ]
  },
  {
   "cell_type": "code",
   "execution_count": 44,
   "metadata": {},
   "outputs": [],
   "source": [
    "#Bilder ohne Stift array convertieren\n",
    "directory = 'F:\\\\image_classifier\\\\images_without_pen\\\\resized'\n",
    "i=0\n",
    "for filename in os.listdir(directory):\n",
    "    img = Image.open(directory+\"\\\\\"+filename)\n",
    "    arr=array(img)\n",
    "    imageListWithout[i]=torch.from_numpy(arr)\n",
    "    i+=1"
   ]
  },
  {
   "cell_type": "code",
   "execution_count": 45,
   "metadata": {},
   "outputs": [],
   "source": [
    "imageListWith =[torch.zeros(1)]*5501"
   ]
  },
  {
   "cell_type": "code",
   "execution_count": 47,
   "metadata": {},
   "outputs": [],
   "source": [
    "#Bilder mit Stift in array convertieren\n",
    "directory = 'F:\\\\image_classifier\\\\images_with_pen\\\\resized'\n",
    "i=0\n",
    "for filename in os.listdir(directory):\n",
    "    img = Image.open(directory+\"\\\\\"+filename)\n",
    "    arr=array(img)\n",
    "    imageListWith[i]=torch.from_numpy(arr)\n",
    "    i+=1"
   ]
  },
  {
   "cell_type": "code",
   "execution_count": 48,
   "metadata": {},
   "outputs": [],
   "source": [
    "sample = {'image': imageListWith[0], 'label': 1.0}"
   ]
  },
  {
   "cell_type": "code",
   "execution_count": 49,
   "metadata": {},
   "outputs": [],
   "source": [
    "imageList =[sample]*9671"
   ]
  },
  {
   "cell_type": "code",
   "execution_count": 50,
   "metadata": {},
   "outputs": [
    {
     "data": {
      "text/plain": [
       "9671"
      ]
     },
     "execution_count": 50,
     "metadata": {},
     "output_type": "execute_result"
    }
   ],
   "source": [
    "len(imageList)"
   ]
  },
  {
   "cell_type": "code",
   "execution_count": 51,
   "metadata": {},
   "outputs": [],
   "source": [
    "#Alles zusammenpacken\n",
    "imageList=[torch.zeros(1)]*9671\n",
    "for i in range(4170):\n",
    "    imageList[i]={'image' : imageListWithout[i]/255.0, 'label' : 0.0}\n",
    "for i in range(5501):\n",
    "    imageList[i+4170]={'image' : imageListWith[i]/255.0, 'label' : 1.0}\n"
   ]
  },
  {
   "cell_type": "code",
   "execution_count": 52,
   "metadata": {},
   "outputs": [],
   "source": [
    "#Durchmischen\n",
    "import random\n",
    "random.shuffle(imageList)"
   ]
  },
  {
   "cell_type": "code",
   "execution_count": 53,
   "metadata": {},
   "outputs": [],
   "source": [
    "#Test und trainings Daten aufteilen\n",
    "split_size = int(len(imageList)*0.7)\n",
    "\n",
    "trainData, testData = imageList[:split_size], imageList[split_size:]"
   ]
  },
  {
   "cell_type": "code",
   "execution_count": 69,
   "metadata": {},
   "outputs": [
    {
     "name": "stdout",
     "output_type": "stream",
     "text": [
      "6769\n",
      "2902\n"
     ]
    }
   ],
   "source": [
    "print(len(trainData))\n",
    "print(len(testData))"
   ]
  },
  {
   "cell_type": "code",
   "execution_count": 74,
   "metadata": {},
   "outputs": [],
   "source": [
    "#Alles speichern\n",
    "dataSet = [trainData,testData]\n",
    "with open('F:\\\\image_classifier\\\\file.txt', \"wb\") as f:\n",
    "    pickle.dump(dataSet, f, pickle.HIGHEST_PROTOCOL)"
   ]
  },
  {
   "cell_type": "markdown",
   "metadata": {},
   "source": [
    "^^ Data Preparation ^^\n",
    "\n",
    "˅˅      Training    ˅˅"
   ]
  },
  {
   "cell_type": "code",
   "execution_count": 1,
   "metadata": {},
   "outputs": [],
   "source": [
    "import torch\n",
    "import torchvision\n",
    "import pickle\n",
    "import os\n",
    "import random\n",
    "import torch.nn as nn4\n",
    "import torch.nn.functional as F"
   ]
  },
  {
   "cell_type": "code",
   "execution_count": 2,
   "metadata": {},
   "outputs": [],
   "source": [
    "class trainingDataLoader(torch.utils.data.Dataset):\n",
    "    def __init__(self):\n",
    "        # TODO\n",
    "        # 1. Initialize file paths or a list of file names. \n",
    "        self.trainData = pickle.load( open(\"F:\\\\image_classifier\\\\file.txt\", \"rb\"))[0]\n",
    "        pass\n",
    "    def __getitem__(self, index):\n",
    "        # TODO\n",
    "        # 1. Read one data from file (e.g. using numpy.fromfile, PIL.Image.open).\n",
    "        # 2. Preprocess the data (e.g. torchvision.Transform).\n",
    "        # 3. Return a data pair (e.g. image and label).\n",
    "        return self.trainData[index]\n",
    "    def __len__(self):\n",
    "        # You should change 0 to the total size of your dataset.\n",
    "        return len(self.trainData)"
   ]
  },
  {
   "cell_type": "code",
   "execution_count": 3,
   "metadata": {},
   "outputs": [],
   "source": [
    "class testDataLoader(torch.utils.data.Dataset):\n",
    "    def __init__(self):\n",
    "        # TODO\n",
    "        # 1. Initialize file paths or a list of file names. \n",
    "        self.testData = pickle.load( open(\"F:\\\\image_classifier\\\\file.txt\", \"rb\"))[1]\n",
    "        pass\n",
    "    def __getitem__(self, index):\n",
    "        # TODO\n",
    "        # 1. Read one data from file (e.g. using numpy.fromfile, PIL.Image.open).\n",
    "        # 2. Preprocess the data (e.g. torchvision.Transform).\n",
    "        # 3. Return a data pair (e.g. image and label).\n",
    "        return self.testData[index]\n",
    "    def __len__(self):\n",
    "        # You should change 0 to the total size of your dataset.\n",
    "        return len(self.testData)"
   ]
  },
  {
   "cell_type": "code",
   "execution_count": 4,
   "metadata": {},
   "outputs": [],
   "source": [
    "train_dataset = trainingDataLoader()\n",
    "train_loader = torch.utils.data.DataLoader(dataset=train_dataset,\n",
    "                                           batch_size=64, \n",
    "                                           shuffle=True)\n",
    "test_dataset = testDataLoader()\n",
    "test_loader = torch.utils.data.DataLoader(dataset=test_dataset,\n",
    "                                           batch_size=64, \n",
    "                                           shuffle=True)"
   ]
  },
  {
   "cell_type": "code",
   "execution_count": 16,
   "metadata": {},
   "outputs": [],
   "source": [
    "#Netzwerk\n",
    "import torch.nn as nn\n",
    "import torch.nn.functional as F\n",
    "\n",
    "class ConvNet(nn.Module):\n",
    "    def __init__(self):\n",
    "        super(ConvNet, self).__init__()\n",
    "        self.batchnorm = nn.BatchNorm2d(1)\n",
    "        self.layer1 = nn.Sequential(\n",
    "            nn.Conv2d(3, 32, kernel_size=5, stride=1, padding=2),\n",
    "            nn.ReLU(),\n",
    "            nn.MaxPool2d(kernel_size=4, stride=4))\n",
    "        self.layer2 = nn.Sequential(\n",
    "            nn.Conv2d(32, 64, kernel_size=5, stride=1, padding=2),\n",
    "            nn.ReLU(),\n",
    "            nn.MaxPool2d(kernel_size=4, stride=4))\n",
    "        self.drop_out = nn.Dropout()\n",
    "        self.fc1 = nn.Linear(64*9*9, 5000)\n",
    "        self.fc2 = nn.Linear(5000, 1)\n",
    "    def forward(self, x):\n",
    "        #out = self.batchnorm(x)\n",
    "        out = self.layer1(x)\n",
    "        out = self.layer2(out)\n",
    "        #print(out.shape)\n",
    "        out = out.reshape(out.size(0), -1)\n",
    "        #out = self.Batchnorm(out)\n",
    "        out = self.drop_out(out)\n",
    "        out = self.fc1(out)\n",
    "        out = self.fc2(out)\n",
    "        return out\n",
    "net=ConvNet()"
   ]
  },
  {
   "cell_type": "code",
   "execution_count": 17,
   "metadata": {},
   "outputs": [],
   "source": [
    "import torch.optim as optim\n",
    "\n",
    "criterion = nn.MSELoss()\n",
    "#optimizer = optim.SDG(net.parameters(), lr=0.001, momentum=0.9)\n",
    "optimizer = optim.Adam(net.parameters(), lr=0.001)"
   ]
  },
  {
   "cell_type": "code",
   "execution_count": 18,
   "metadata": {},
   "outputs": [
    {
     "name": "stdout",
     "output_type": "stream",
     "text": [
      "Epoch [1/3], Step [20/106], Loss: 0.5357, Accuracy: 48.44%\n",
      "Epoch [1/3], Step [40/106], Loss: 0.4876, Accuracy: 45.31%\n",
      "Epoch [1/3], Step [60/106], Loss: 0.4371, Accuracy: 42.19%\n",
      "Epoch [1/3], Step [80/106], Loss: 0.3458, Accuracy: 46.88%\n",
      "Epoch [1/3], Step [100/106], Loss: 0.2908, Accuracy: 50.00%\n",
      "Epoch [2/3], Step [20/106], Loss: 0.2803, Accuracy: 40.62%\n",
      "Epoch [2/3], Step [40/106], Loss: 0.2544, Accuracy: 46.88%\n",
      "Epoch [2/3], Step [60/106], Loss: 0.2505, Accuracy: 46.88%\n",
      "Epoch [2/3], Step [80/106], Loss: 0.2490, Accuracy: 53.12%\n",
      "Epoch [2/3], Step [100/106], Loss: 0.2478, Accuracy: 54.69%\n",
      "Epoch [3/3], Step [20/106], Loss: 0.2531, Accuracy: 51.56%\n",
      "Epoch [3/3], Step [40/106], Loss: 0.2488, Accuracy: 54.69%\n",
      "Epoch [3/3], Step [60/106], Loss: 0.2615, Accuracy: 46.88%\n",
      "Epoch [3/3], Step [80/106], Loss: 0.2531, Accuracy: 51.56%\n",
      "Epoch [3/3], Step [100/106], Loss: 0.2569, Accuracy: 48.44%\n",
      "Finished Training\n"
     ]
    }
   ],
   "source": [
    "#Training\n",
    "total_step = len(train_loader)\n",
    "lastaccuracy =0;\n",
    "acc_list = []\n",
    "for epoch in range(3):  # loop over the dataset multiple times\n",
    "\n",
    "    running_loss = 0.0\n",
    "    for i, data in enumerate(train_loader, 0):\n",
    "        # get the inputs; data is a list of [inputs, labels]\n",
    "        inputs=data['image']\n",
    "        labels = data['label']\n",
    "        inputs = inputs.type('torch.FloatTensor')\n",
    "        inputs= torch.reshape(inputs,[len(inputs),3,150,150])\n",
    "        labels = labels.type('torch.FloatTensor')\n",
    "        labels= torch.reshape(labels,[len(labels),1])\n",
    "        # zero the parameter gradients\n",
    "        optimizer.zero_grad()\n",
    "        net.eval\n",
    "        # forward + backward + optimize\n",
    "        outputs = net(inputs)\n",
    "        loss = criterion(outputs, labels)\n",
    "        loss.backward()\n",
    "        optimizer.step()\n",
    "        # calculate Accuracy\n",
    "        correct=0\n",
    "        predicted = torch.round(outputs)\n",
    "        total = labels.size(0)\n",
    "        #correct += (predicted == labels).sum().item()\n",
    "        for prediction, label in zip(predicted,labels):\n",
    "            if(label.item() == prediction.item()):\n",
    "                correct+=1 \n",
    "        # print statistics\n",
    "        running_loss += loss.item()\n",
    "        if i % 20 == 19:    # print every 2000 mini-batches\n",
    "           print('Epoch [{}/{}], Step [{}/{}], Loss: {:.4f}, Accuracy: {:.2f}%'\n",
    "                  .format(epoch + 1, 3, i + 1, total_step, loss.item(),\n",
    "                          (correct / total) * 100))\n",
    "        \n",
    "        #running_loss = 0.0\n",
    "\n",
    "print('Finished Training')"
   ]
  },
  {
   "cell_type": "code",
   "execution_count": 20,
   "metadata": {},
   "outputs": [
    {
     "name": "stdout",
     "output_type": "stream",
     "text": [
      "Accuracy of the network on the 10000 test images: 42 %\n"
     ]
    }
   ],
   "source": [
    "#GEnauigkeit ermitteln\n",
    "correct = 0\n",
    "total = 0\n",
    "net.eval()\n",
    "with torch.no_grad():\n",
    "    for data in test_loader:\n",
    "        images=data['image']\n",
    "        labels = data['label']\n",
    "        images = images.type('torch.FloatTensor')\n",
    "        images= torch.reshape(images,[len(images),3,150,150])\n",
    "        labels = labels.type('torch.FloatTensor')\n",
    "        predicted = torch.round(outputs)\n",
    "        total += labels.size(0)\n",
    "        #correct += (predicted == labels).sum().item()\n",
    "        for prediction, label in zip(predicted,labels):\n",
    "            if(label.item() == prediction.item()):\n",
    "                correct+=1\n",
    "\n",
    "print('Accuracy of the network on the 10000 test images: %d %%' % (\n",
    "    100 * correct / total))"
   ]
  },
  {
   "cell_type": "code",
   "execution_count": 49,
   "metadata": {},
   "outputs": [
    {
     "name": "stderr",
     "output_type": "stream",
     "text": [
      "D:\\python\\lib\\site-packages\\torch\\serialization.py:256: UserWarning: Couldn't retrieve source code for container of type ConvNet. It won't be checked for correctness upon loading.\n",
      "  \"type \" + obj.__name__ + \". It won't be checked \"\n"
     ]
    }
   ],
   "source": [
    "#Richtiges speichern\n",
    "torch.save(net.state_dict,'F:\\\\image_classifier\\\\model_params.dat')"
   ]
  },
  {
   "cell_type": "code",
   "execution_count": 50,
   "metadata": {},
   "outputs": [
    {
     "name": "stderr",
     "output_type": "stream",
     "text": [
      "D:\\python\\lib\\site-packages\\torch\\serialization.py:256: UserWarning: Couldn't retrieve source code for container of type ConvNet. It won't be checked for correctness upon loading.\n",
      "  \"type \" + obj.__name__ + \". It won't be checked \"\n"
     ]
    }
   ],
   "source": [
    "#falsches speichern (wird hier benutzt)\n",
    "torch.save(net,'F:\\\\image_classifier\\\\model_params.dat')"
   ]
  },
  {
   "cell_type": "code",
   "execution_count": 51,
   "metadata": {},
   "outputs": [],
   "source": [
    "#Laden vom Netzwerk\n",
    "testnet = ConvNet()\n",
    "testnet =torch.load('F:\\\\image_classifier\\\\model_params.dat')"
   ]
  },
  {
   "cell_type": "code",
   "execution_count": null,
   "metadata": {},
   "outputs": [],
   "source": []
  }
 ],
 "metadata": {
  "kernelspec": {
   "display_name": "Python 3",
   "language": "python",
   "name": "python3"
  },
  "language_info": {
   "codemirror_mode": {
    "name": "ipython",
    "version": 3
   },
   "file_extension": ".py",
   "mimetype": "text/x-python",
   "name": "python",
   "nbconvert_exporter": "python",
   "pygments_lexer": "ipython3",
   "version": "3.7.3"
  }
 },
 "nbformat": 4,
 "nbformat_minor": 2
}
